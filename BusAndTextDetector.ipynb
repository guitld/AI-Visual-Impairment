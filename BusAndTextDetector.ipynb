{
  "nbformat": 4,
  "nbformat_minor": 2,
  "metadata": {
    "accelerator": "GPU",
    "colab": {
      "name": "BusAndTextDetector (1).ipynb",
      "provenance": [],
      "collapsed_sections": []
    },
    "kernelspec": {
      "display_name": "Python 3",
      "language": "python",
      "name": "python3"
    },
    "language_info": {
      "codemirror_mode": {
        "name": "ipython",
        "version": 3
      },
      "file_extension": ".py",
      "mimetype": "text/x-python",
      "name": "python",
      "nbconvert_exporter": "python",
      "pygments_lexer": "ipython3",
      "version": "3.8.8"
    },
    "metadata": {
      "interpreter": {
        "hash": "e4a3694e3245d6bb660b45cacdc4e7b34a18b97e576eafaf9f266108cea04617"
      }
    }
  },
  "cells": [
    {
      "cell_type": "code",
      "execution_count": null,
      "source": [
        "!pip install easyocr\r\n",
        "!pip install -U tensorflow>=2.5\r\n",
        "!git clone --depth 1 https://github.com/tensorflow/models"
      ],
      "outputs": [],
      "metadata": {
        "id": "C-g_e2Z1PyDJ"
      }
    },
    {
      "cell_type": "code",
      "execution_count": null,
      "source": [
        "%%bash\r\n",
        "sudo apt install -y protobuf-compiler\r\n",
        "cd models/research/\r\n",
        "protoc object_detection/protos/*.proto --python_out=.\r\n",
        "cp object_detection/packages/tf2/setup.py .\r\n",
        "python -m pip install ."
      ],
      "outputs": [],
      "metadata": {
        "id": "nv9ss4XqMXMp"
      }
    },
    {
      "cell_type": "code",
      "execution_count": 4,
      "source": [
        "# Importing necessary modules\r\n",
        "import os\r\n",
        "import cv2\r\n",
        "from matplotlib import pyplot as plt\r\n",
        "import numpy as np\r\n",
        "import imutils\r\n",
        "import easyocr\r\n",
        "import tensorflow as tf\r\n",
        "import tensorflow_hub as hub\r\n",
        "from six import BytesIO\r\n",
        "from PIL import Image, ImageDraw, ImageFont\r\n",
        "from object_detection.utils import label_map_util\r\n",
        "from object_detection.utils import visualization_utils as viz_utils\r\n",
        "from object_detection.utils import ops as utils_ops\r\n",
        "\r\n",
        "%matplotlib inline"
      ],
      "outputs": [],
      "metadata": {
        "id": "PM82osZqPZoS"
      }
    },
    {
      "cell_type": "code",
      "execution_count": null,
      "source": [
        "# Using a ResNet50 to detect buses\r\n",
        "model_display_name = \"Faster R-CNN ResNet50 V1 640x640\"\r\n",
        "hub_model = hub.load('https://tfhub.dev/tensorflow/faster_rcnn/resnet50_v1_640x640/1')"
      ],
      "outputs": [],
      "metadata": {
        "id": "xGM5JgWXj2Un"
      }
    },
    {
      "cell_type": "code",
      "execution_count": null,
      "source": [
        "# Defining labels\r\n",
        "PATH_TO_LABELS = './models/research/object_detection/data/mscoco_label_map.pbtxt'\r\n",
        "category_index = label_map_util.create_category_index_from_labelmap(PATH_TO_LABELS, use_display_name=True)"
      ],
      "outputs": [],
      "metadata": {
        "id": "Js0twZSxtBOj"
      }
    },
    {
      "cell_type": "code",
      "execution_count": null,
      "source": [
        "# Reshaping the image for the model and loading it\r\n",
        "def reshape_image(image_file):\r\n",
        "    image_data = tf.io.gfile.GFile(image_file, 'rb').read()\r\n",
        "    image = Image.open(BytesIO(image_data))\r\n",
        "    (image_width, image_height) = image.size\r\n",
        "\r\n",
        "    img = np.array(image.getdata()).reshape((1, image_height, image_width, 3)).astype(np.uint8)\r\n",
        "    img[0] = np.tile(np.mean(img[0], 2, keepdims=True), (1,1,3)).astype(np.uint8)\r\n",
        "    return img\r\n",
        "\r\n",
        "def get_results(image):\r\n",
        "    results = hub_model(image)\r\n",
        "    result = {key: value.numpy() for key,value in results.items()}\r\n",
        "\r\n",
        "    return result"
      ],
      "outputs": [],
      "metadata": {
        "id": "JH06ZE7lkWdx"
      }
    },
    {
      "cell_type": "code",
      "execution_count": null,
      "source": [
        "# Displaying the labels detected\r\n",
        "def display_labels(image, result):\r\n",
        "    label_id_offset = 0\r\n",
        "    image_np_with_detections = None\r\n",
        "    image_np_with_detections = image.copy()\r\n",
        "\r\n",
        "    viz_utils.visualize_boxes_and_labels_on_image_array(\r\n",
        "      image_np_with_detections[0],\r\n",
        "      result['detection_boxes'][0],\r\n",
        "      (result['detection_classes'][0] + label_id_offset).astype(int),\r\n",
        "      result['detection_scores'][0],\r\n",
        "      category_index,\r\n",
        "      use_normalized_coordinates=True,\r\n",
        "      max_boxes_to_draw=200,\r\n",
        "      min_score_thresh=.30,\r\n",
        "      agnostic_mode=False)\r\n",
        "\r\n",
        "    plt.figure(figsize=(24,32))\r\n",
        "    plt.imshow(image_np_with_detections[0])\r\n",
        "    plt.show()"
      ],
      "outputs": [],
      "metadata": {
        "id": "tZJeYRJVk3mE"
      }
    },
    {
      "cell_type": "code",
      "execution_count": null,
      "source": [
        "# Cropping the original image with the bus box\r\n",
        "def crop_image(image, box):\r\n",
        "    imag = cv2.imread(image)\r\n",
        "    orgShape = imag.shape\r\n",
        "    \r\n",
        "    reShape = (640, 640)\r\n",
        "    xVal = orgShape[0] / reShape[0]\r\n",
        "    yVal = orgShape[1] / reShape[1]\r\n",
        "\r\n",
        "    if isinstance(box[0], np.ndarray):\r\n",
        "        box = box[0]\r\n",
        "\r\n",
        "    box[0] = (box[0] * xVal)\r\n",
        "    box[2] = (box[2] * xVal)\r\n",
        "    box[1] = (box[1] * yVal)\r\n",
        "    box[3] = (box[3] * yVal)\r\n",
        "\r\n",
        "    # plt.imshow(cv2.cvtColor(imag, cv2.COLOR_BGR2RGB))\r\n",
        "    imag = cv2.cvtColor(imag, cv2.COLOR_BGR2RGB)\r\n",
        "    final = imag[box[0] : box[2], box[1] : box[3]]\r\n",
        "    \r\n",
        "    # plt.figure()\r\n",
        "\r\n",
        "    #subplot(r,c) provide the no. of rows and columns\r\n",
        "    # figure, axis= plt.subplots(2,1) \r\n",
        "\r\n",
        "    # use the created array to output your multiple images. In this case I have stacked 4 images vertically\r\n",
        "    # axis[0].set_title(\"Before\")\r\n",
        "    # axis[0].imshow(imag)\r\n",
        "    \r\n",
        "    # axis[1].set_title(\"After\")\r\n",
        "    # axis[1].imshow(final)\r\n",
        "\r\n",
        "    return final   "
      ],
      "outputs": [],
      "metadata": {
        "id": "rMSWHB443JOb"
      }
    },
    {
      "cell_type": "code",
      "execution_count": null,
      "source": [
        "# Converting the image to grayscale\r\n",
        "def convert_grayscale(image):\r\n",
        "    gray = cv2.csvColor(image, cv2.COLOR_BGR2GRAY)\r\n",
        "    cv2.imwrite(\"grayscaled.jpg\", gray)\r\n",
        "    \r\n",
        "    return gray"
      ],
      "outputs": [],
      "metadata": {
        "id": "rBFc6XHC1GnJ"
      }
    },
    {
      "cell_type": "code",
      "execution_count": null,
      "source": [
        "# Using EasyOCR to detect text boxes\r\n",
        "def read_display_with_EasyOCR(image):\r\n",
        "    reader = easyocr.Reader(['pt', 'en'])\r\n",
        "    res = reader.detect(image)\r\n",
        "    print(res)\r\n",
        "\r\n",
        "    top_left = (res[0][2][0], res[0][2][2])\r\n",
        "    bottom_right = (res[0][2][1], res[0][2][3])\r\n",
        "    \r\n",
        "    final = cv2.imread(image)\r\n",
        "    final = cv2.rectangle(final, top_left, bottom_right, (0, 255, 0), 5)\r\n",
        "    \r\n",
        "    plt.imshow(final)\r\n",
        "\r\n",
        "    return final"
      ],
      "outputs": [],
      "metadata": {
        "id": "8Y1S4WDb3_bE"
      }
    },
    {
      "cell_type": "code",
      "execution_count": null,
      "source": [
        "def createGray(filename):\r\n",
        "    # Converting the image to grayscale\r\n",
        "    final = cv2.imread(filename)\r\n",
        "    gray = cv2.cvtColor(final, cv2.COLOR_BGR2GRAY)\r\n",
        "    return gray"
      ],
      "outputs": [],
      "metadata": {
        "id": "AK5IhuHWydJh"
      }
    },
    {
      "cell_type": "code",
      "execution_count": null,
      "source": [
        "def readText(filename):\r\n",
        "    # Using EasyOCR to detect text boxes\r\n",
        "    reader = easyocr.Reader(['pt', 'en'], recognizer='Transformer')\r\n",
        "    res = reader.readtext(filename)\r\n",
        "    return res"
      ],
      "outputs": [],
      "metadata": {
        "id": "ZjvKGraIyd-b"
      }
    },
    {
      "cell_type": "code",
      "execution_count": null,
      "source": [
        "# Returns the similarity between two strings\r\n",
        "from difflib import SequenceMatcher\r\n",
        "\r\n",
        "def similar(a, b):\r\n",
        "    return SequenceMatcher(None, a, b).ratio()"
      ],
      "outputs": [],
      "metadata": {
        "id": "pJt_I8Ru9LE0"
      }
    },
    {
      "cell_type": "code",
      "execution_count": null,
      "source": [
        "# Returns 'Valter Silva' text box coordinates\r\n",
        "def getValter(filename, res):\r\n",
        "    valterBox = []\r\n",
        "    for i in res:\r\n",
        "        if similar(\"Valter Silva\", i[1]) > 0.8:\r\n",
        "            print(i[1])\r\n",
        "            valterBox.append(i[0][0])\r\n",
        "            valterBox.append(i[0][2])\r\n",
        "            valterBox = [item for sublist in valterBox for item in sublist]\r\n",
        "            return valterBox"
      ],
      "outputs": [],
      "metadata": {
        "id": "8QUBL7IMytFS"
      }
    },
    {
      "cell_type": "code",
      "execution_count": null,
      "source": [
        "# Adds a black rectangle on 'Valter Silva' text\r\n",
        "def removeValter(filenameOpen, valterBox):\r\n",
        "    imag = cv2.imread(filenameOpen)\r\n",
        "    imag = cv2.rectangle(imag, (valterBox[0], valterBox[1]), (valterBox[2], valterBox[3]), (0, 0, 0), -1)\r\n",
        "    return imag"
      ],
      "outputs": [],
      "metadata": {
        "id": "JuclWZDe5XHy"
      }
    },
    {
      "cell_type": "code",
      "execution_count": null,
      "source": [
        "from google.colab import drive\r\n",
        "drive.mount('/content/drive')"
      ],
      "outputs": [
        {
          "output_type": "stream",
          "name": "stdout",
          "text": [
            "Mounted at /content/drive\n"
          ]
        }
      ],
      "metadata": {
        "colab": {
          "base_uri": "https://localhost:8080/"
        },
        "id": "D87heVDesGnm",
        "outputId": "2afe1993-bc58-4602-ca44-083cba5f541e"
      }
    },
    {
      "cell_type": "code",
      "execution_count": null,
      "source": [
        "# Looping through all the images to crop the bus and 'Valter Silva' text\r\n",
        "path = \"/content/drive/MyDrive/ProjetoBUS/Clean/\"\r\n",
        "grayPath = \"/content/drive/MyDrive/ProjetoBUS/DatasetCinza/\"\r\n",
        "cleanPath = \"/content/drive/MyDrive/ProjetoBUS/DatasetFinal/\"\r\n",
        "\r\n",
        "\r\n",
        "for i in range(6327):\r\n",
        "    print(i)\r\n",
        "    if not os.path.isfile(f\"{path}/img{i}.jpg\"):\r\n",
        "        continue\r\n",
        "    if os.path.isfile(f\"{cleanPath}/img{i}.jpg\"):\r\n",
        "        continue\r\n",
        "\r\n",
        "    image = reshape_image(f\"{path}/img{i}.jpg\")\r\n",
        "    result = get_results(image)\r\n",
        "\r\n",
        "    busDetection = result['detection_classes'] == 6\r\n",
        "    scoreDetection = result['detection_scores'] > 0.95\r\n",
        "    box = result['detection_boxes'][np.where(busDetection & scoreDetection)]\r\n",
        "    box = box.squeeze()\r\n",
        "    box *= 640\r\n",
        "    box = box.astype(np.int32)\r\n",
        "    if len(box) == 0:\r\n",
        "        continue\r\n",
        "    cv2.imwrite(f\"{grayPath}/img{i}.jpg\", crop_image(f\"{path}/img{i}.jpg\", box))\r\n",
        "    # cv2.cvtColor(cv2.imread(f\"{path}/img{i}.jpg\"), cv2.COLOR_BGR2LAB)\r\n",
        "    cv2.imwrite(f\"{grayPath}/img{i}.jpg\", createGray(f\"{grayPath}/img{i}.jpg\"))\r\n",
        "    res = readText(f\"{grayPath}/img{i}.jpg\")\r\n",
        "    valterBox = getValter(f\"{grayPath}/img{i}.jpg\", res)\r\n",
        "    if valterBox == None:\r\n",
        "        continue\r\n",
        "    valterBox = [int(item) for item in valterBox]\r\n",
        "    print(valterBox)\r\n",
        "    cv2.imwrite(f\"{cleanPath}/img{i}.jpg\", removeValter(f\"{grayPath}/img{i}.jpg\", valterBox))"
      ],
      "outputs": [],
      "metadata": {
        "id": "DUgamqXu5Yky"
      }
    }
  ]
}