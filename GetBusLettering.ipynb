{
  "nbformat": 4,
  "nbformat_minor": 2,
  "metadata": {
    "colab": {
      "name": "GetBusLettering.ipynb",
      "provenance": [],
      "collapsed_sections": []
    },
    "kernelspec": {
      "name": "python3",
      "display_name": "Python 3"
    },
    "language_info": {
      "name": "python"
    },
    "accelerator": "GPU"
  },
  "cells": [
    {
      "cell_type": "code",
      "execution_count": null,
      "source": [
        "!pip install easyocr"
      ],
      "outputs": [],
      "metadata": {
        "id": "TJKxy26Cmwct",
        "colab": {
          "base_uri": "https://localhost:8080/"
        },
        "outputId": "9bb4cdce-4f32-40d6-dd0c-cf998e37dae3"
      }
    },
    {
      "cell_type": "code",
      "execution_count": 5,
      "source": [
        "# Importing necessary modules\r\n",
        "import os\r\n",
        "import cv2\r\n",
        "from matplotlib import pyplot as plt\r\n",
        "import numpy as np\r\n",
        "import pandas as pd\r\n",
        "import easyocr\r\n",
        "\r\n",
        "%matplotlib inline"
      ],
      "outputs": [],
      "metadata": {
        "id": "4qQKOlV6j1p4"
      }
    },
    {
      "cell_type": "code",
      "execution_count": null,
      "source": [
        "from google.colab import drive\r\n",
        "drive.mount('/content/drive')"
      ],
      "outputs": [],
      "metadata": {
        "colab": {
          "base_uri": "https://localhost:8080/"
        },
        "id": "4KuoZwz2gW2M",
        "outputId": "c39164cb-0dd5-4c4b-9b43-85914b77bc87"
      }
    },
    {
      "cell_type": "code",
      "execution_count": 6,
      "source": [
        "def get_bigger_box(res):\r\n",
        "    biggerBox = []\r\n",
        "    area = 0\r\n",
        "    minY = 1000\r\n",
        "    for i in res:\r\n",
        "        box = []\r\n",
        "        box.append(i[0][0])\r\n",
        "        box.append(i[0][2])\r\n",
        "        print(i)\r\n",
        "        box = [item for sublist in box for item in sublist]\r\n",
        "        box = [int(item) for item in box]\r\n",
        "        textArea = abs((box[0] - box[1]) * (box[2] - box[3]))\r\n",
        "        if textArea > area and box[1] < minY:\r\n",
        "            minY = box[1]\r\n",
        "            area = textArea\r\n",
        "            biggerBox = box\r\n",
        "    return biggerBox"
      ],
      "outputs": [],
      "metadata": {
        "id": "7o8mWEt9j3xy"
      }
    },
    {
      "cell_type": "code",
      "execution_count": 7,
      "source": [
        "def crop_lettering(final, biggerText):\r\n",
        "    top_left = (biggerText[0], biggerText[1])\r\n",
        "    bottom_right = (biggerText[2], biggerText[3])\r\n",
        "    imag = final[top_left[1] : bottom_right[1], top_left[0] : bottom_right[0]]\r\n",
        "    return imag"
      ],
      "outputs": [],
      "metadata": {
        "id": "Tzg4foEQj6d8"
      }
    },
    {
      "cell_type": "code",
      "execution_count": 8,
      "source": [
        "def readText(filename):\r\n",
        "    # Using EasyOCR to detect text boxes\r\n",
        "    reader = easyocr.Reader(['pt', 'en'], recognizer='Transformer')\r\n",
        "    res = reader.readtext(filename)\r\n",
        "    return res"
      ],
      "outputs": [],
      "metadata": {
        "id": "u1U8JF6Rm9x1"
      }
    },
    {
      "cell_type": "code",
      "execution_count": 9,
      "source": [
        "def rec(filenameOpen, valterBox):\r\n",
        "    imag = cv2.imread(filenameOpen)\r\n",
        "    imag = cv2.rectangle(imag, (valterBox[0], valterBox[1]), (valterBox[2], valterBox[3]), (0, 255, 0))\r\n",
        "    return imag"
      ],
      "outputs": [],
      "metadata": {
        "id": "e8BmGED8j8p5"
      }
    },
    {
      "cell_type": "code",
      "execution_count": 3,
      "source": [
        "# Returns the similarity between two strings\r\n",
        "from difflib import SequenceMatcher\r\n",
        "\r\n",
        "def similar(a, b):\r\n",
        "    return SequenceMatcher(None, a, b).ratio()"
      ],
      "outputs": [],
      "metadata": {
        "id": "Gd7UlnTtoIbd"
      }
    },
    {
      "cell_type": "code",
      "execution_count": null,
      "source": [
        "# Google Drive path to dataset\r\n",
        "path = \"\"\r\n",
        "\r\n",
        "\r\n",
        "\r\n",
        "for i in range(6327):\r\n",
        "    if not os.path.isfile(f\"{path}img{i}.jpg\"):\r\n",
        "        continue\r\n",
        "    image = cv2.imread(f\"{path}img{i}.jpg\")\r\n",
        "    image = cv2.GaussianBlur(image, (5,5), 0.5)\r\n",
        "    biggerText = get_bigger_box(readText(image))\r\n",
        "    biggerText[0] -= 10\r\n",
        "    biggerText[1] -= 10\r\n",
        "    biggerText[2] += 10\r\n",
        "    biggerText[3] += 10\r\n",
        "    if biggerText[0] < 0 or biggerText[1] < 0:\r\n",
        "        continue\r\n",
        "    lettering = crop_lettering(image, biggerText)\r\n",
        "    res = readText(255-cv2.cvtColor(lettering, cv2.COLOR_BGR2RGB))\r\n",
        "    plt.imshow(255-cv2.cvtColor(lettering, cv2.COLOR_BGR2RGB))\r\n",
        "    plt.show()\r\n",
        "    print(res[0][1])"
      ],
      "outputs": [],
      "metadata": {
        "id": "vFtgClBIj-RA",
        "colab": {
          "base_uri": "https://localhost:8080/",
          "height": 1000
        },
        "outputId": "ae0875ac-824e-455a-f451-84588d9c3b7d"
      }
    }
  ]
}